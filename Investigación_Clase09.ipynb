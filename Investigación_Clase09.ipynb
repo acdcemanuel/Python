{
 "cells": [
  {
   "cell_type": "code",
   "execution_count": 1,
   "metadata": {},
   "outputs": [
    {
     "name": "stdout",
     "output_type": "stream",
     "text": [
      "SELECT ¨FROM empleado\n",
      "WHERE salario >=25000 AND estado = Finanzas\n"
     ]
    }
   ],
   "source": [
    "salario = 25000\n",
    "dept= \"Finanzas\"\n",
    "miQuery= \"\"\"SELECT ¨FROM empleado\n",
    "WHERE salario >=25000 AND estado = Finanzas\"\"\"\n",
    "print(miQuery)"
   ]
  },
  {
   "cell_type": "code",
   "execution_count": 6,
   "metadata": {},
   "outputs": [
    {
     "data": {
      "text/plain": [
       "7"
      ]
     },
     "execution_count": 6,
     "metadata": {},
     "output_type": "execute_result"
    }
   ],
   "source": [
    "a=\"Emanuel\"\n",
    "a[0:7]\n",
    "\n",
    "len(a)"
   ]
  },
  {
   "cell_type": "code",
   "execution_count": 7,
   "metadata": {},
   "outputs": [
    {
     "data": {
      "text/plain": [
       "True"
      ]
     },
     "execution_count": 7,
     "metadata": {},
     "output_type": "execute_result"
    }
   ],
   "source": [
    "34==34"
   ]
  },
  {
   "cell_type": "code",
   "execution_count": null,
   "metadata": {},
   "outputs": [],
   "source": []
  },
  {
   "cell_type": "markdown",
   "metadata": {},
   "source": [
    "Ejemplo"
   ]
  },
  {
   "cell_type": "code",
   "execution_count": null,
   "metadata": {},
   "outputs": [],
   "source": [
    "numero= int(input(\"Ingrese un número: \"))\n",
    "if (numero!=0):\n",
    "    print(\"El numero no es cero\")\n",
    "    else:\n",
    "        print(\"El numero es cero\")"
   ]
  },
  {
   "cell_type": "markdown",
   "metadata": {},
   "source": []
  },
  {
   "cell_type": "code",
   "execution_count": null,
   "metadata": {},
   "outputs": [],
   "source": [
    "dia= int (input(\"ingrese un numero de dia\"))\n",
    "if (dia>=1 and dia <=7):\n",
    "    if(dia==1):\n",
    "        print (\"El día es lunes\")\n",
    "        elif(dia==2):\n",
    "            print(\"El día es martes\")\n",
    "            elif(dia==7):\n",
    "                print(\"El día es miercoles\")\n",
    "                else:\n",
    "                    print(\"El día es incorrecto\")"
   ]
  },
  {
   "cell_type": "code",
   "execution_count": null,
   "metadata": {},
   "outputs": [],
   "source": [
    "dia= int (input(\"ingrese un numero de dia\"))\n",
    "if (dia>=1 and dia <=7):\n",
    "    if(dia==1):\n",
    "        print (\"El día es lunes\")\n",
    "        elif(dia==2):\n",
    "            print(\"El día es martes\")\n",
    "            elif(dia==3):\n",
    "                print(\"El día es miercoles\")\n",
    "            elif(dia==4):\n",
    "                print(\"El día es jueves\")\n",
    "                else:\n",
    "                    print(\"El día es incorrecto\")"
   ]
  },
  {
   "cell_type": "markdown",
   "metadata": {},
   "source": [
    "Listas"
   ]
  },
  {
   "cell_type": "code",
   "execution_count": 24,
   "metadata": {},
   "outputs": [],
   "source": [
    "lista = [10,20,30,40,50,60]\n",
    "\n",
    "#es dinamica\n",
    "#Almacena diferentes tipos de datos\n",
    "#Es indexable"
   ]
  },
  {
   "cell_type": "code",
   "execution_count": 25,
   "metadata": {},
   "outputs": [
    {
     "data": {
      "text/plain": [
       "[30, 40, 50]"
      ]
     },
     "execution_count": 25,
     "metadata": {},
     "output_type": "execute_result"
    }
   ],
   "source": [
    "lista[4]\n",
    "lista[2:5]"
   ]
  },
  {
   "cell_type": "markdown",
   "metadata": {},
   "source": [
    "Agregar nuevos elementos a la lista"
   ]
  },
  {
   "cell_type": "code",
   "execution_count": 26,
   "metadata": {},
   "outputs": [],
   "source": [
    "lista.append('Data')\n"
   ]
  },
  {
   "cell_type": "code",
   "execution_count": 27,
   "metadata": {},
   "outputs": [
    {
     "data": {
      "text/plain": [
       "[10, 20, 30, 40, 50, 60, 'Data']"
      ]
     },
     "execution_count": 27,
     "metadata": {},
     "output_type": "execute_result"
    }
   ],
   "source": [
    "lista"
   ]
  },
  {
   "cell_type": "code",
   "execution_count": 28,
   "metadata": {},
   "outputs": [],
   "source": [
    "lista.insert(3,'Investigacion')\n"
   ]
  },
  {
   "cell_type": "code",
   "execution_count": 29,
   "metadata": {},
   "outputs": [
    {
     "data": {
      "text/plain": [
       "[10, 20, 30, 'Investigacion', 40, 50, 60, 'Data']"
      ]
     },
     "execution_count": 29,
     "metadata": {},
     "output_type": "execute_result"
    }
   ],
   "source": [
    "lista"
   ]
  },
  {
   "cell_type": "markdown",
   "metadata": {},
   "source": [
    "Eliminar elementos en la lista"
   ]
  },
  {
   "cell_type": "code",
   "execution_count": 30,
   "metadata": {},
   "outputs": [],
   "source": [
    "del lista[3] #Eliminar por poisición"
   ]
  },
  {
   "cell_type": "code",
   "execution_count": 31,
   "metadata": {},
   "outputs": [
    {
     "data": {
      "text/plain": [
       "[10, 20, 30, 40, 50, 60, 'Data']"
      ]
     },
     "execution_count": 31,
     "metadata": {},
     "output_type": "execute_result"
    }
   ],
   "source": [
    "lista"
   ]
  },
  {
   "cell_type": "code",
   "execution_count": 33,
   "metadata": {},
   "outputs": [],
   "source": [
    "lista.remove('Data')#Eliminar por valor\n"
   ]
  },
  {
   "cell_type": "code",
   "execution_count": 34,
   "metadata": {},
   "outputs": [
    {
     "data": {
      "text/plain": [
       "[10, 20, 30, 40, 50, 60]"
      ]
     },
     "execution_count": 34,
     "metadata": {},
     "output_type": "execute_result"
    }
   ],
   "source": [
    "lista"
   ]
  },
  {
   "cell_type": "markdown",
   "metadata": {},
   "source": [
    "Ejemplo"
   ]
  },
  {
   "cell_type": "code",
   "execution_count": null,
   "metadata": {},
   "outputs": [],
   "source": [
    "Segundos= int(input(\"Ingrese los segundos\"))\n",
    "\n",
    "Horas = Segundos//(60*60)\n",
    "Segundos = Segundos % (60*60)\n",
    "Minutos = Segundos // (60)\n",
    "Segundos = Segundos % (60)\n",
    "print('Horas:{} - Minutos {} - Segundos {}'.format(Horas, Minutos, Segundos)\")\n"
   ]
  },
  {
   "cell_type": "code",
   "execution_count": null,
   "metadata": {},
   "outputs": [],
   "source": [
    "from datetime import datetime\n",
    "\n",
    "dia = int (input(\"Introduce el dia actual\"))\n",
    "mes = int(input(\"Indtroduce el mes actual\"))\n",
    "año = int(input(\"Introduce el año actual\"))\n",
    "\n",
    "dia_aniversario = int (input(\"Introduce el día de tu nacimiento\"))\n",
    "mes_aniversario= int(input(\"Introduce el mes de tu nacimiento\"))\n",
    "año_aniversario=  int(input(\"Introduce el año de tu nacimeinto\"))\n",
    "\n",
    "resultado_dia = dia - dia_aniversario\n",
    "resultado_mes = mes - mes_aniversario\n",
    "resultado_año = año - año_aniversario\n",
    "\n",
    "print (\"Tienes\",resultado_año \"años\",resultado_mes, \"meses\", \"y\", resultado_dia, \"dias\")"
   ]
  },
  {
   "cell_type": "markdown",
   "metadata": {},
   "source": [
    "COMENTARIO GENERAL DE LA HERRAMIENTA\n",
    "\n",
    "Python:\n",
    "\n",
    "Versatilidad: Python es un lenguaje de programación versátil con una amplia gama de bibliotecas y herramientas específicamente diseñadas para el análisis de datos. Este lenguaje de programación ayuda a realizar desde tareas básicas hasta análisis de datos avanzados y machine learning.\n",
    "\n",
    "Una de las ventajas que ofrece Python por ser un lenguaje muy potente, existe una comunidad enorme y activa. Esto significa que hay mucha información y recursos en línea, bibliotecas y soluciones disponibles. \n",
    "\n",
    "La sintaxis simple y legible de Python facilita el desarrollo y la comprensión del código. Esto es especialmente útil cuando se esta trabajando con análisis de datos, debido a que la claridad del código es esencial.\n",
    "\n",
    "------------------------------------------------------------------------------------------------------------------------------------------------------------------\n",
    "\n",
    "Anaconda:\n",
    "\n",
    "Anaconda facilita la gestión de paquetes y entornos virtuales. Al instalarlo y actualizarlo es posible gestionar paquetes específicos para análisis de datos de manera sencilla, lo que ahorra tiempo y evita conflictos entre versiones.\n",
    "\n",
    "Con la creación de entornos virtuales, es posible mantener proyectos separados con sus propias dependencias. Esto es crucial para evitar conflictos entre versiones de bibliotecas y asegurar la reproducibilidad de los resultados.\n",
    "\n",
    "Este software viene preinstalado con muchas de las bibliotecas más utilizadas en el análisis de datos, como NumPy, pandas y Matplotlib, lo que permite comenzar a trabajar de inmediato sin perder tiempo en la configuración.\n",
    "\n",
    "------------------------------------------------------------------------------------------------------------------------------------------------------------------\n",
    "\n",
    "Visual Studio Code:\n",
    "\n",
    "Interfaz de usuario intuitiva: VSCode tiene una interfaz de usuario intuitiva y amigable que facilita la escritura, la lectura y la depuración del código. Las funciones como el resaltado de sintaxis y el completado automático hacen que la programación sea más eficiente.\n",
    "\n",
    "Debido a que es posible instalar extensiones y personalizarlo, este IDE amplía las capacidades de VSCode mediante extensiones. Existen extensiones específicas para Python y análisis de datos que pueden mejorar el flujo de trabajo y proporcionar herramientas adicionales.\n",
    "\n",
    "La capacidad de depuración integrada en VSCode es esencial para identificar y corregir errores en el código durante el análisis de datos. Con esta herramienta es posible establecer puntos de interrupción y examinar variables fácilmente.\n",
    "\n",
    "En resumen, la combinación de Python, Anaconda y Visual Studio Code ofrece un entorno robusto, fácil de usar y altamente eficiente para el análisis de datos. Desde la facilidad de escritura de código hasta la gestión de paquetes y la depuración, estos elementos trabajan en conjunto para hacer que el análisis de datos sea más accesible y productivo.\n"
   ]
  }
 ],
 "metadata": {
  "kernelspec": {
   "display_name": "Investigacion",
   "language": "python",
   "name": "python3"
  },
  "language_info": {
   "codemirror_mode": {
    "name": "ipython",
    "version": 3
   },
   "file_extension": ".py",
   "mimetype": "text/x-python",
   "name": "python",
   "nbconvert_exporter": "python",
   "pygments_lexer": "ipython3",
   "version": "3.8.18"
  }
 },
 "nbformat": 4,
 "nbformat_minor": 2
}
